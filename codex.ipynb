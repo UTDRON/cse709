{
 "cells": [
  {
   "cell_type": "code",
   "execution_count": 11,
   "id": "6c01f014-9427-4079-8ff9-f7586d5362e3",
   "metadata": {},
   "outputs": [],
   "source": [
    "import pandas as pd"
   ]
  },
  {
   "cell_type": "code",
   "execution_count": 12,
   "id": "c01c1f47-cdc2-446a-80e3-82beae2faf2a",
   "metadata": {},
   "outputs": [],
   "source": [
    "pd.set_option('display.max_rows', None)    # Show all rows\n",
    "pd.set_option('display.max_columns', None) # Show all columns"
   ]
  },
  {
   "cell_type": "code",
   "execution_count": 15,
   "id": "7d35ec08-bbcc-4ef3-a3ea-fd734957ccad",
   "metadata": {},
   "outputs": [
    {
     "data": {
      "text/html": [
       "<div>\n",
       "<style scoped>\n",
       "    .dataframe tbody tr th:only-of-type {\n",
       "        vertical-align: middle;\n",
       "    }\n",
       "\n",
       "    .dataframe tbody tr th {\n",
       "        vertical-align: top;\n",
       "    }\n",
       "\n",
       "    .dataframe thead th {\n",
       "        text-align: right;\n",
       "    }\n",
       "</style>\n",
       "<table border=\"1\" class=\"dataframe\">\n",
       "  <thead>\n",
       "    <tr style=\"text-align: right;\">\n",
       "      <th></th>\n",
       "      <th>timestamp</th>\n",
       "      <th>duration</th>\n",
       "      <th>emissions</th>\n",
       "      <th>emissions_rate</th>\n",
       "      <th>cpu_power</th>\n",
       "      <th>gpu_power</th>\n",
       "      <th>ram_power</th>\n",
       "      <th>cpu_energy</th>\n",
       "      <th>gpu_energy</th>\n",
       "      <th>ram_energy</th>\n",
       "      <th>energy_consumed</th>\n",
       "    </tr>\n",
       "  </thead>\n",
       "  <tbody>\n",
       "    <tr>\n",
       "      <th>0</th>\n",
       "      <td>2024-04-28T18:39:00</td>\n",
       "      <td>138.936497</td>\n",
       "      <td>0.000045</td>\n",
       "      <td>3.237277e-07</td>\n",
       "      <td>0.1347</td>\n",
       "      <td>0.0000</td>\n",
       "      <td>3.0</td>\n",
       "      <td>0.000141</td>\n",
       "      <td>2.084132e-08</td>\n",
       "      <td>0.000072</td>\n",
       "      <td>0.000214</td>\n",
       "    </tr>\n",
       "    <tr>\n",
       "      <th>1</th>\n",
       "      <td>2024-04-28T18:41:24</td>\n",
       "      <td>140.645006</td>\n",
       "      <td>0.000048</td>\n",
       "      <td>3.432078e-07</td>\n",
       "      <td>0.1738</td>\n",
       "      <td>0.0039</td>\n",
       "      <td>3.0</td>\n",
       "      <td>0.000156</td>\n",
       "      <td>2.629471e-07</td>\n",
       "      <td>0.000073</td>\n",
       "      <td>0.000229</td>\n",
       "    </tr>\n",
       "  </tbody>\n",
       "</table>\n",
       "</div>"
      ],
      "text/plain": [
       "             timestamp    duration  emissions  emissions_rate  cpu_power  \\\n",
       "0  2024-04-28T18:39:00  138.936497   0.000045    3.237277e-07     0.1347   \n",
       "1  2024-04-28T18:41:24  140.645006   0.000048    3.432078e-07     0.1738   \n",
       "\n",
       "   gpu_power  ram_power  cpu_energy    gpu_energy  ram_energy  energy_consumed  \n",
       "0     0.0000        3.0    0.000141  2.084132e-08    0.000072         0.000214  \n",
       "1     0.0039        3.0    0.000156  2.629471e-07    0.000073         0.000229  "
      ]
     },
     "execution_count": 15,
     "metadata": {},
     "output_type": "execute_result"
    }
   ],
   "source": [
    "emissions_df = pd.read_csv(\"emissions.csv\")\n",
    "selected_columns = ['timestamp','duration','emissions','emissions_rate','cpu_power','gpu_power','ram_power','cpu_energy','gpu_energy','ram_energy','energy_consumed']\n",
    "emissions_df[selected_columns]"
   ]
  },
  {
   "cell_type": "code",
   "execution_count": null,
   "id": "402aec73-57d0-4194-910f-08cfa8f0b54e",
   "metadata": {},
   "outputs": [],
   "source": []
  }
 ],
 "metadata": {
  "kernelspec": {
   "display_name": "Python 3 (ipykernel)",
   "language": "python",
   "name": "python3"
  },
  "language_info": {
   "codemirror_mode": {
    "name": "ipython",
    "version": 3
   },
   "file_extension": ".py",
   "mimetype": "text/x-python",
   "name": "python",
   "nbconvert_exporter": "python",
   "pygments_lexer": "ipython3",
   "version": "3.11.0"
  }
 },
 "nbformat": 4,
 "nbformat_minor": 5
}
